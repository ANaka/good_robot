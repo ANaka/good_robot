{
 "cells": [
  {
   "cell_type": "code",
   "execution_count": null,
   "metadata": {},
   "outputs": [],
   "source": [
    "# default_exp write"
   ]
  },
  {
   "cell_type": "markdown",
   "metadata": {},
   "source": [
    "# write\n",
    "utility functions for writing to svg format to send to axidraw. this is shamelessly stolen from the excellent [penkit](https://github.com/paulgb/penkit)\n",
    "\n",
    "specifically, reformatted this module for nbdev\n",
    "https://github.com/paulgb/penkit/blob/master/penkit/write.py\n",
    "and made some small changes"
   ]
  },
  {
   "cell_type": "code",
   "execution_count": null,
   "metadata": {},
   "outputs": [],
   "source": [
    "#hide\n",
    "from nbdev.showdoc import *"
   ]
  },
  {
   "cell_type": "code",
   "execution_count": null,
   "metadata": {},
   "outputs": [],
   "source": [
    "#export\n",
    "import xml.etree.ElementTree as ET\n",
    "import numpy as np\n",
    "\n",
    "# Landscape Letter\n",
    "DEFAULT_PAGE_WIDTH = 11\n",
    "DEFAULT_PAGE_HEIGHT = 8.5\n",
    "DEFAULT_PAGE_UNIT = 'in'\n",
    "\n",
    "# Plot-related defaults\n",
    "DEFAULT_VIEW_BOX_MARGIN = 0.2\n",
    "STROKE_THICKNESS = 0.003  # Fraction of width of image\n",
    "PLOT_COLORS = ['black', 'red', 'green', 'blue', 'cyan', 'orange']"
   ]
  },
  {
   "cell_type": "code",
   "execution_count": null,
   "metadata": {},
   "outputs": [],
   "source": [
    "#export\n",
    "def calculate_view_box(layers, aspect_ratio, margin=DEFAULT_VIEW_BOX_MARGIN):\n",
    "    \"\"\"Calculates the size of the SVG viewBox to use.\n",
    "    Args:\n",
    "        layers (list): the layers in the image\n",
    "        aspect_ratio (float): the height of the output divided by the width\n",
    "        margin (float): minimum amount of buffer to add around the image, relative\n",
    "            to the total dimensions\n",
    "    Returns:\n",
    "        tuple: a 4-tuple of floats representing the viewBox according to SVG\n",
    "            specifications ``(x, y, width, height)``.\n",
    "    \"\"\"\n",
    "    min_x = min(np.nanmin(x) for x, y in layers)\n",
    "    max_x = max(np.nanmax(x) for x, y in layers)\n",
    "    min_y = min(np.nanmin(y) for x, y in layers)\n",
    "    max_y = max(np.nanmax(y) for x, y in layers)\n",
    "    height = max_y - min_y\n",
    "    width = max_x - min_x\n",
    "\n",
    "    if height > width * aspect_ratio:\n",
    "        adj_height = height * (1. + margin)\n",
    "        adj_width = adj_height / aspect_ratio\n",
    "    else:\n",
    "        adj_width = width * (1. + margin)\n",
    "        adj_height = adj_width * aspect_ratio\n",
    "\n",
    "    width_buffer = (adj_width - width) / 2.\n",
    "    height_buffer = (adj_height - height) / 2.\n",
    "\n",
    "    return (\n",
    "        min_x - width_buffer,\n",
    "        min_y - height_buffer,\n",
    "        adj_width,\n",
    "        adj_height\n",
    "    )"
   ]
  },
  {
   "cell_type": "code",
   "execution_count": null,
   "metadata": {},
   "outputs": [],
   "source": [
    "#export\n",
    "def _layer_to_path_gen(layer):\n",
    "    \"\"\"Generates an SVG path from a given layer.\n",
    "    Args:\n",
    "        layer (layer): the layer to convert\n",
    "    Yields:\n",
    "        str: the next component of the path\n",
    "    \"\"\"\n",
    "    draw = False\n",
    "    for x, y in zip(*layer):\n",
    "        if np.isnan(x) or np.isnan(y):\n",
    "            draw = False\n",
    "        elif not draw:\n",
    "            yield 'M {} {}'.format(x, y)\n",
    "            draw = True\n",
    "        else:\n",
    "            yield 'L {} {}'.format(x, y)"
   ]
  },
  {
   "cell_type": "code",
   "execution_count": null,
   "metadata": {},
   "outputs": [],
   "source": [
    "#export\n",
    "def layer_to_path(layer):\n",
    "    \"\"\"Generates an SVG path from a given layer.\n",
    "    Args:\n",
    "        layer (layer): the layer to convert\n",
    "    Returns:\n",
    "        str: an SVG path\n",
    "    \"\"\"\n",
    "    return ' '.join(_layer_to_path_gen(layer))"
   ]
  },
  {
   "cell_type": "code",
   "execution_count": null,
   "metadata": {},
   "outputs": [],
   "source": [
    "#export\n",
    "def plot_to_svg(plot, width, height, unit='', margin=DEFAULT_VIEW_BOX_MARGIN):\n",
    "    \"\"\"Converts a plot (list of layers) into an SVG document.\n",
    "    Args:\n",
    "        plot (list): list of layers that make up the plot\n",
    "        width (float): the width of the resulting image\n",
    "        height (float): the height of the resulting image\n",
    "        unit (str): the units of the resulting image if not pixels\n",
    "    Returns:\n",
    "        str: A stringified XML document representing the image\n",
    "    \"\"\"\n",
    "    flipped_plot = [(x, -y) for x, y in plot]\n",
    "    aspect_ratio = height / width\n",
    "    view_box = calculate_view_box(flipped_plot, aspect_ratio=aspect_ratio, margin=margin)\n",
    "    view_box_str = '{} {} {} {}'.format(*view_box)\n",
    "    stroke_thickness = STROKE_THICKNESS * (view_box[2])\n",
    "\n",
    "    svg = ET.Element('svg', attrib={\n",
    "        'xmlns': 'http://www.w3.org/2000/svg',\n",
    "        'xmlns:inkscape': 'http://www.inkscape.org/namespaces/inkscape',\n",
    "        'width': '{}{}'.format(width, unit),\n",
    "        'height': '{}{}'.format(height, unit),\n",
    "        'viewBox': view_box_str})\n",
    "\n",
    "    for i, layer in enumerate(flipped_plot):\n",
    "        group = ET.SubElement(svg, 'g', attrib={\n",
    "            'inkscape:label': '{}-layer'.format(i),\n",
    "            'inkscape:groupmode': 'layer',\n",
    "        })\n",
    "\n",
    "        color = PLOT_COLORS[i % len(PLOT_COLORS)]\n",
    "        ET.SubElement(group, 'path', attrib={\n",
    "            'style': 'stroke-width: {}; stroke: {};'.format(stroke_thickness, color),\n",
    "            'fill': 'none',\n",
    "            'd': layer_to_path(layer)\n",
    "        })\n",
    "\n",
    "    try:\n",
    "        return ET.tostring(svg, encoding='unicode')\n",
    "    except LookupError:\n",
    "        # Python 2.x\n",
    "        return ET.tostring(svg)"
   ]
  },
  {
   "cell_type": "code",
   "execution_count": null,
   "metadata": {},
   "outputs": [],
   "source": [
    "#export\n",
    "def layer_to_svg(layer, **kwargs):\n",
    "    \"\"\"Converts a layer into an SVG image.\n",
    "    Wrapper around ``plot_to_svg``.\n",
    "    Args:\n",
    "        layer (layer): the layer to plot\n",
    "        width (float): the width of the resulting image\n",
    "        height (float): the height of the resulting image\n",
    "        unit (str): the units of the resulting image if not pixels\n",
    "    Returns:\n",
    "        str: A stringified XML document representing the image\n",
    "    \"\"\"\n",
    "    return plot_to_svg([layer], **kwargs)"
   ]
  },
  {
   "cell_type": "code",
   "execution_count": null,
   "metadata": {},
   "outputs": [],
   "source": [
    "#export\n",
    "def write_plot(plot, filename,\n",
    "               width=DEFAULT_PAGE_WIDTH,\n",
    "               height=DEFAULT_PAGE_HEIGHT,\n",
    "               unit=DEFAULT_PAGE_UNIT,\n",
    "               margin=DEFAULT_VIEW_BOX_MARGIN,\n",
    "              ):\n",
    "    \"\"\"Writes a plot SVG to a file.\n",
    "    Args:\n",
    "        plot (list): a list of layers to plot\n",
    "        filename (str): the name of the file to write\n",
    "        width (float): the width of the output SVG\n",
    "        height (float): the height of the output SVG\n",
    "        unit (str): the unit of the height and width\n",
    "    \"\"\"\n",
    "    svg = plot_to_svg(plot, width, height, unit, margin)\n",
    "    with open(filename, 'w') as outfile:\n",
    "        outfile.write(svg)"
   ]
  },
  {
   "cell_type": "code",
   "execution_count": null,
   "metadata": {},
   "outputs": [
    {
     "name": "stdout",
     "output_type": "stream",
     "text": [
      "Converted 00_gram.ipynb.\n",
      "Converted 01_gram_scratch.ipynb.\n",
      "Converted 02_write.ipynb.\n",
      "Converted index.ipynb.\n"
     ]
    }
   ],
   "source": [
    "from nbdev.export import notebook2script\n",
    "notebook2script()"
   ]
  }
 ],
 "metadata": {
  "kernelspec": {
   "display_name": "Python [conda env:good_robot]",
   "language": "python",
   "name": "conda-env-good_robot-py"
  }
 },
 "nbformat": 4,
 "nbformat_minor": 4
}
