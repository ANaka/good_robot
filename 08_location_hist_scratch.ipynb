{
 "cells": [
  {
   "cell_type": "code",
   "execution_count": null,
   "metadata": {},
   "outputs": [],
   "source": [
    "import pandas as pd, numpy as np, matplotlib.pyplot as plt\n",
    "from datetime import datetime as dt\n",
    "import seaborn as sns\n",
    "# from mpl_toolkits.basemap import Basemap\n",
    "from matplotlib.collections import LineCollection\n",
    "\n",
    "from tqdm import tqdm\n",
    "\n",
    "from good_robot.location_history_parse import *\n",
    "from good_robot.gram import layer_to_lines, lines_to_layer\n",
    "from good_robot import write\n",
    "%matplotlib inline\n",
    "%load_ext autoreload\n",
    "%autoreload 2"
   ]
  },
  {
   "cell_type": "code",
   "execution_count": null,
   "metadata": {},
   "outputs": [],
   "source": [
    "def layer_to_line_segments(layer):\n",
    "    nans = np.where(np.isnan(layer[0,:]))[0]\n",
    "    if nans.size > 0:\n",
    "        breaks = np.concatenate([np.array([-1]),nans])\n",
    "        segs = []\n",
    "        for i in range(len(breaks)-1):\n",
    "            _line = layer[:,breaks[i]+1:breaks[i+1]].T\n",
    "            segs.append(_line)\n",
    "    elif nans.size == 0:\n",
    "        segs = [layer.T]\n",
    "    return segs\n",
    "\n",
    "def join_segs(segments, seg_join_dist_thresh = 0.05):\n",
    "    segs = segments.copy()\n",
    "    joined_segs = []\n",
    "    i = 0\n",
    "    current_seg = segs.pop(0)\n",
    "    next_seg = segs.pop(0)\n",
    "    while len(segs):\n",
    "\n",
    "        delta = next_seg[0,:] - current_seg[-1,:]\n",
    "        dpos = (delta ** 2).sum() ** 0.5\n",
    "        if dpos < seg_join_dist_thresh:\n",
    "            current_seg = np.concatenate([current_seg, next_seg])\n",
    "            next_seg = segs.pop(0)\n",
    "        else:\n",
    "            joined_segs.append(current_seg)\n",
    "            current_seg = segs.pop(0)\n",
    "            next_seg = segs.pop(0)\n",
    "    return joined_segs"
   ]
  },
  {
   "cell_type": "code",
   "execution_count": null,
   "metadata": {},
   "outputs": [
    {
     "name": "stdout",
     "output_type": "stream",
     "text": [
      "CPU times: user 41.5 s, sys: 20.2 s, total: 1min 1s\n",
      "Wall time: 1min 2s\n"
     ]
    }
   ],
   "source": [
    "%%time\n",
    "filepath = '/mnt/c/data/side/Location History/Location History.json'\n",
    "df = google_location_history_to_df(filepath)"
   ]
  },
  {
   "cell_type": "code",
   "execution_count": null,
   "metadata": {},
   "outputs": [],
   "source": [
    "df.to_csv('/mnt/c/data/side/Location History/Location History.csv')"
   ]
  },
  {
   "cell_type": "code",
   "execution_count": null,
   "metadata": {},
   "outputs": [],
   "source": [
    "df.to_parquet('/mnt/c/data/side/Location History/Location History.parquet')"
   ]
  },
  {
   "cell_type": "code",
   "execution_count": null,
   "metadata": {},
   "outputs": [],
   "source": [
    "big_bay_ind = (df['lat'] < 38) & (37.6 < df['lat']) \n",
    "big_bay_ind = big_bay_ind & (-122.6 < df['lon']) & (df['lon'] < -122.15)\n",
    "\n",
    "small_bay_ind = (df['lat'] < 37.9) & (37.75 < df['lat']) \n",
    "small_bay_ind = small_bay_ind & (-122.34 < df['lon']) & (df['lon'] < -122.2)\n",
    "\n",
    "med_bay_ind = (df['lat'] < 37.9) & (37.75 < df['lat']) \n",
    "med_bay_ind = med_bay_ind & (-122.34 < df['lon']) & (df['lon'] < -122.2)"
   ]
  },
  {
   "cell_type": "code",
   "execution_count": null,
   "metadata": {},
   "outputs": [],
   "source": [
    "bb = df[big_bay_ind]"
   ]
  },
  {
   "cell_type": "code",
   "execution_count": null,
   "metadata": {},
   "outputs": [],
   "source": [
    "f,ax = plt.subplots()\n",
    "data = bb.dropna(subset=['dposm'])\n",
    "data = data.query('dposm > 0')\n",
    "ax.hexbin(data['dt'], data['dposm'].values, gridsize=100, bins='log', mincnt=1, yscale='log', extent=(0,600, -2,5))"
   ]
  },
  {
   "cell_type": "code",
   "execution_count": null,
   "metadata": {},
   "outputs": [],
   "source": [
    "f,ax = plt.subplots()\n",
    "ax.set_yscale('log')\n",
    "sns.distplot(bb['dt'],ax=ax, kde=False, bins = np.linspace(0,600))"
   ]
  },
  {
   "cell_type": "code",
   "execution_count": null,
   "metadata": {},
   "outputs": [],
   "source": [
    "f,ax = plt.subplots()\n",
    "ax.set_yscale('log')\n",
    "sns.distplot(bb['dposm'],ax=ax, kde=False, bins = np.linspace(0,600), hist_kws={'log':True})"
   ]
  },
  {
   "cell_type": "code",
   "execution_count": null,
   "metadata": {},
   "outputs": [],
   "source": [
    "front_cols = ['lat', 'lon',   'm_from_hpsc', 'dpos_hpsc', 'dt','dposm', 'mpers',\n",
    "       'trip_ind', 'trip']"
   ]
  },
  {
   "cell_type": "code",
   "execution_count": null,
   "metadata": {},
   "outputs": [],
   "source": [
    "start='2018-01-14-15:55'\n",
    "end='2020-06-29-16:10'\n",
    "data = bb.loc[start:end,:]"
   ]
  },
  {
   "cell_type": "code",
   "execution_count": null,
   "metadata": {},
   "outputs": [
    {
     "name": "stdout",
     "output_type": "stream",
     "text": [
      "CPU times: user 37.8 s, sys: 78.1 ms, total: 37.9 s\n",
      "Wall time: 39.1 s\n"
     ]
    }
   ],
   "source": [
    "%%time\n",
    "min_vel=0.01\n",
    "max_vel=35\n",
    "max_dt=300\n",
    "max_dposm=1000\n",
    "\n",
    "trip_times, split_ind =  split_trips(\n",
    "    data,\n",
    "    min_vel=min_vel,\n",
    "    max_vel=max_vel,\n",
    "    max_dt=max_dt,\n",
    "    max_dposm=max_dposm,\n",
    ")"
   ]
  },
  {
   "cell_type": "code",
   "execution_count": null,
   "metadata": {},
   "outputs": [
    {
     "name": "stderr",
     "output_type": "stream",
     "text": [
      "<timed exec>:13: SettingWithCopyWarning: \n",
      "A value is trying to be set on a copy of a slice from a DataFrame.\n",
      "Try using .loc[row_indexer,col_indexer] = value instead\n",
      "\n",
      "See the caveats in the documentation: https://pandas.pydata.org/pandas-docs/stable/user_guide/indexing.html#returning-a-view-versus-a-copy\n"
     ]
    },
    {
     "name": "stdout",
     "output_type": "stream",
     "text": [
      "CPU times: user 203 ms, sys: 15.6 ms, total: 219 ms\n",
      "Wall time: 214 ms\n"
     ]
    },
    {
     "name": "stderr",
     "output_type": "stream",
     "text": [
      "<timed exec>:14: SettingWithCopyWarning: \n",
      "A value is trying to be set on a copy of a slice from a DataFrame.\n",
      "Try using .loc[row_indexer,col_indexer] = value instead\n",
      "\n",
      "See the caveats in the documentation: https://pandas.pydata.org/pandas-docs/stable/user_guide/indexing.html#returning-a-view-versus-a-copy\n"
     ]
    }
   ],
   "source": [
    "%%time\n",
    "min_vel=0.01\n",
    "max_vel=35\n",
    "max_dt=300\n",
    "max_dposm=1000\n",
    "\n",
    "is_trip =  get_is_trip_bool(\n",
    "    data,\n",
    "    min_vel=min_vel,\n",
    "    max_vel=max_vel,\n",
    "    max_dt=max_dt,\n",
    "    max_dposm=max_dposm,\n",
    ")\n",
    "data['is_trip'] = is_trip\n",
    "data['trip_starts'], data['trip_ends'], data['trips'] = get_trip_time_bools(data, is_trip)"
   ]
  },
  {
   "cell_type": "code",
   "execution_count": null,
   "metadata": {},
   "outputs": [],
   "source": [
    "# split into trips\n",
    "_data = data.query('is_trip').loc[:,['trip_starts', 'lat','lon']]\n",
    "trip_starts_ind = np.where(_data['trip_starts'])[0]\n",
    "trips = np.split(_data.loc[:,['lon','lat',]].values, trip_starts_ind)"
   ]
  },
  {
   "cell_type": "code",
   "execution_count": null,
   "metadata": {},
   "outputs": [
    {
     "data": {
      "text/plain": [
       "(-122.61489528, -122.12816992, 37.58024566, 38.06697102)"
      ]
     },
     "execution_count": null,
     "metadata": {},
     "output_type": "execute_result"
    },
    {
     "data": {
      "image/png": "[encoded data removed]",
      "text/plain": [
       "<Figure size 720x720 with 1 Axes>"
      ]
     },
     "metadata": {
      "needs_background": "light"
     },
     "output_type": "display_data"
    }
   ],
   "source": [
    "f,ax = plt.subplots(figsize=(10,10))\n",
    "lc = LineCollection(trips, alpha=0.7, color='r')\n",
    "ax.add_collection(lc,)\n",
    "ax.axis('tight')\n",
    "ax.axis('square')"
   ]
  },
  {
   "cell_type": "code",
   "execution_count": null,
   "metadata": {},
   "outputs": [
    {
     "data": {
      "text/plain": [
       "<matplotlib.axes._subplots.AxesSubplot at 0x7f104fb5c490>"
      ]
     },
     "execution_count": null,
     "metadata": {},
     "output_type": "execute_result"
    },
    {
     "data": {
      "image/png": "[encoded data removed]",
      "text/plain": [
       "<Figure size 432x288 with 1 Axes>"
      ]
     },
     "metadata": {
      "needs_background": "light"
     },
     "output_type": "display_data"
    }
   ],
   "source": [
    "f,ax = plt.subplots()\n",
    "# sns.distplot(data.dropna(subset=['heading'])['mpers'],kde=False, hist_kws={'log':True,'range':(0,40)},)\n",
    "sns.distplot(data['mpers'],kde=False, hist_kws={'log':True,'range':(0,100)}, )\n",
    "sns.distplot(data.dropna(subset=['in_vehicle'])['mpers'],kde=False, hist_kws={'log':True,'range':(0,100)},)"
   ]
  },
  {
   "cell_type": "code",
   "execution_count": null,
   "metadata": {},
   "outputs": [
    {
     "name": "stderr",
     "output_type": "stream",
     "text": [
      "<timed exec>:1: SettingWithCopyWarning: \n",
      "A value is trying to be set on a copy of a slice from a DataFrame.\n",
      "Try using .loc[row_indexer,col_indexer] = value instead\n",
      "\n",
      "See the caveats in the documentation: https://pandas.pydata.org/pandas-docs/stable/user_guide/indexing.html#returning-a-view-versus-a-copy\n",
      "100%|██████████| 79390/79390 [01:22<00:00, 967.62it/s] "
     ]
    },
    {
     "name": "stdout",
     "output_type": "stream",
     "text": [
      "CPU times: user 1min 20s, sys: 3.2 s, total: 1min 23s\n",
      "Wall time: 1min 22s\n"
     ]
    },
    {
     "name": "stderr",
     "output_type": "stream",
     "text": [
      "\n"
     ]
    }
   ],
   "source": [
    "%%time\n",
    "\n",
    "lines = []\n",
    "for i, trip_time in tqdm(enumerate(trip_times)):\n",
    "    start,end = trip_time\n",
    "    trip = data.loc[start:end,:]\n",
    "    line = trip.loc[:,['lon', 'lat']].values\n",
    "    lines.append(line)"
   ]
  },
  {
   "cell_type": "code",
   "execution_count": null,
   "metadata": {},
   "outputs": [],
   "source": [
    "joined_lines = join_segs(lines[:1000])"
   ]
  },
  {
   "cell_type": "code",
   "execution_count": null,
   "metadata": {},
   "outputs": [],
   "source": [
    "seg_join_dist_thresh = 0.005"
   ]
  },
  {
   "cell_type": "code",
   "execution_count": null,
   "metadata": {},
   "outputs": [
    {
     "name": "stderr",
     "output_type": "stream",
     "text": [
      "100%|██████████| 1000/1000 [00:00<00:00, 31022.27it/s]\n"
     ]
    }
   ],
   "source": [
    "joined_lines = []\n",
    "this_line = None\n",
    "for i in tqdm(range(len(lines[:1000]))):\n",
    "    if this_line is None:\n",
    "        this_line = lines[i]\n",
    "    else:\n",
    "        delta = lines[i] - this_line[-1,:]\n",
    "        dpos = (delta ** 2).sum() ** 0.5\n",
    "        if dpos < seg_join_dist_thresh:\n",
    "            this_line = np.concatenate([this_line, lines[i]])\n",
    "        else:\n",
    "            joined_lines.append(this_line)\n",
    "            this_line = None"
   ]
  },
  {
   "cell_type": "code",
   "execution_count": null,
   "metadata": {},
   "outputs": [
    {
     "data": {
      "text/plain": [
       "96"
      ]
     },
     "execution_count": null,
     "metadata": {},
     "output_type": "execute_result"
    }
   ],
   "source": [
    "len(joined_lines)"
   ]
  },
  {
   "cell_type": "code",
   "execution_count": null,
   "metadata": {},
   "outputs": [],
   "source": [
    "line_lens = [len(line) for line in lines]"
   ]
  },
  {
   "cell_type": "code",
   "execution_count": null,
   "metadata": {},
   "outputs": [],
   "source": [
    "long_lines = []\n",
    "for i, line_len in enumerate(line_lens):\n",
    "    if line_len > 10:\n",
    "        long_lines.append(lines[i])"
   ]
  },
  {
   "cell_type": "code",
   "execution_count": null,
   "metadata": {},
   "outputs": [],
   "source": [
    "line_picks = np.random.choice(len(lines), size=100000, replace=False)\n",
    "line_samples = [lines[lp] for lp in line_picks]"
   ]
  },
  {
   "cell_type": "code",
   "execution_count": null,
   "metadata": {},
   "outputs": [
    {
     "data": {
      "text/plain": [
       "(-122.42694503999998, -122.23569816, 37.76343349, 37.95468036999998)"
      ]
     },
     "execution_count": null,
     "metadata": {},
     "output_type": "execute_result"
    },
    {
     "data": {
      "image/png": "[encoded data removed]",
      "text/plain": [
       "<Figure size 720x720 with 1 Axes>"
      ]
     },
     "metadata": {
      "needs_background": "light"
     },
     "output_type": "display_data"
    }
   ],
   "source": [
    "f,ax = plt.subplots(figsize=(10,10))\n",
    "lc = LineCollection(joined_lines, alpha=0.7, color='r')\n",
    "ax.add_collection(lc,)\n",
    "ax.axis('tight')\n",
    "ax.axis('square')"
   ]
  },
  {
   "cell_type": "code",
   "execution_count": null,
   "metadata": {},
   "outputs": [],
   "source": [
    "layer = lines_to_layer(long_lines)"
   ]
  },
  {
   "cell_type": "code",
   "execution_count": null,
   "metadata": {},
   "outputs": [],
   "source": [
    "from pathlib import Path"
   ]
  },
  {
   "cell_type": "code",
   "execution_count": null,
   "metadata": {},
   "outputs": [],
   "source": [
    "savedir = Path('/mnt/c/code/side/good_robot/images')\n",
    "filename = '0022_loc_hist.svg'\n",
    "save_filepath = savedir.joinpath(filename)\n",
    "write.write_plot(plot=[layer], filename=save_filepath, margin=0.2)"
   ]
  },
  {
   "cell_type": "code",
   "execution_count": null,
   "metadata": {},
   "outputs": [],
   "source": [
    "f, ax = plt.subplots(figsize=(10,10))\n",
    "ax.hexbin(layer[0], layer[1], gridsize=300, bins='log', mincnt=1,)"
   ]
  },
  {
   "cell_type": "code",
   "execution_count": null,
   "metadata": {},
   "outputs": [],
   "source": [
    "start_points = np.stack([line[0,:] for line in lines])\n",
    "end_points = np.stack([line[-1,:] for line in lines])"
   ]
  },
  {
   "cell_type": "code",
   "execution_count": null,
   "metadata": {},
   "outputs": [],
   "source": [
    "sps = np.stack(start_points)\n",
    "eps = np.stack(end_points)\n",
    "start_ends = np.concatenate([sps, eps], axis=1)"
   ]
  },
  {
   "cell_type": "code",
   "execution_count": null,
   "metadata": {},
   "outputs": [],
   "source": [
    "f, ax = plt.subplots(figsize=(10,10))\n",
    "ax.hexbin(sps[:,0], sps[:,1], gridsize=300, bins='log', mincnt=1,)"
   ]
  },
  {
   "cell_type": "code",
   "execution_count": null,
   "metadata": {},
   "outputs": [],
   "source": [
    "from sklearn.cluster import KMeans"
   ]
  },
  {
   "cell_type": "code",
   "execution_count": null,
   "metadata": {},
   "outputs": [],
   "source": [
    "kmeans = KMeans(n_clusters=10, random_state=0).fit(sps) "
   ]
  },
  {
   "cell_type": "code",
   "execution_count": null,
   "metadata": {},
   "outputs": [],
   "source": [
    "f, axs = plt.subplots(1, 2, figsize=(14,7))\n",
    "\n",
    "axs[0].hexbin(sps[:,0], sps[:,1], gridsize=100, bins='log', mincnt=1)\n",
    "\n",
    "axs[1].hexbin(sps[:,0], sps[:,1], gridsize=300, bins='log', mincnt=1, alpha=0.1)\n",
    "for i, cc in enumerate(kmeans.cluster_centers_):\n",
    "    axs[1].plot(cc[0],cc[1],marker=f'${i}$', markersize=15)"
   ]
  },
  {
   "cell_type": "code",
   "execution_count": null,
   "metadata": {},
   "outputs": [],
   "source": [
    "centroids = [kmeans.cluster_centers_[i] for i in [5, 7, 0, 2, 1, 4]]"
   ]
  },
  {
   "cell_type": "code",
   "execution_count": null,
   "metadata": {},
   "outputs": [],
   "source": [
    "start_point_dist_vecs = []\n",
    "for centroid in centroids:\n",
    "    start_point_dist_vec = ((sps - centroid) ** 2).sum(axis=1) ** 0.5\n",
    "    start_point_dist_vecs.append(start_point_dist_vec)\n",
    "\n",
    "dists_from_centroid = np.stack(start_point_dist_vecs).T"
   ]
  },
  {
   "cell_type": "code",
   "execution_count": null,
   "metadata": {},
   "outputs": [],
   "source": [
    "max_dists = np.array([0.0001, 0.0005, 0.0005, 0.0005, 0.0005, 0.0005])\n",
    "near_centroids = (dists_from_centroid < max_dists)\n",
    "not_near_any_centroid = ~near_centroids.any(axis=1)\n",
    "not_near_centroid_lines = [lines[i] for i in np.where(not_near_any_centroid)[0]]"
   ]
  },
  {
   "cell_type": "code",
   "execution_count": null,
   "metadata": {},
   "outputs": [],
   "source": [
    "lines_subset"
   ]
  },
  {
   "cell_type": "code",
   "execution_count": null,
   "metadata": {},
   "outputs": [],
   "source": [
    "savedir = Path('/mnt/c/code/side/good_robot/images')\n",
    "filename = '0020_loc_hist.svg'\n",
    "save_filepath = savedir.joinpath(filename)\n",
    "write.write_plot(plot=[layer], filename=save_filepath, margin=0.2)"
   ]
  },
  {
   "cell_type": "code",
   "execution_count": null,
   "metadata": {},
   "outputs": [],
   "source": [
    "f,ax = plt.subplots(figsize=(10,10))\n",
    "lc = LineCollection(not_near_centroid_lines, alpha=0.2, color='k')\n",
    "ax.add_collection(lc,)\n",
    "ax.axis('tight')\n",
    "ax.axis('square')"
   ]
  },
  {
   "cell_type": "code",
   "execution_count": null,
   "metadata": {},
   "outputs": [],
   "source": [
    "f,ax = plt.subplots(figsize=(10,10))\n",
    "lc = LineCollection(lines, alpha=0.2, color='k')\n",
    "ax.add_collection(lc,)\n",
    "lines_in_centroid = []\n",
    "line_collections = []\n",
    "for i in range(6):\n",
    "    near_centroid_inds = np.where(near_centroids[:,i])[0]\n",
    "    lines_in_centroid.append([lines[nci] for nci in near_centroid_inds])\n",
    "    line_collections.append(LineCollection(lines_in_centroid[i], alpha=0.7, color='r'))\n",
    "    ax.add_collection(line_collections[i])\n",
    "    \n",
    "ax.axis('tight')\n",
    "ax.axis('square')"
   ]
  },
  {
   "cell_type": "code",
   "execution_count": null,
   "metadata": {},
   "outputs": [],
   "source": [
    "f,ax = plt.subplots(figsize=(10,10))\n",
    "lc = LineCollection(lines, alpha=0.7, color='k')\n",
    "ax.add_collection(lc,)\n",
    "lc = LineCollection(close_lines, alpha=0.7, color='r')\n",
    "ax.add_collection(lc,)\n",
    "ax.axis('tight')\n",
    "ax.axis('square')"
   ]
  },
  {
   "cell_type": "code",
   "execution_count": null,
   "metadata": {},
   "outputs": [],
   "source": [
    "\n",
    "xmin = data.index.min()\n",
    "xmax = data.index.max()\n",
    "\n",
    "f, axs = plt.subplots(5, 1, figsize=(14,8), sharex=True)\n",
    "\n",
    "ax = axs[0]\n",
    "var = 'dposm'\n",
    "ax.plot(data[var], '-o',)\n",
    "ax.hlines(y=max_dposm, xmin=xmin, xmax=xmax, linestyle=':', color='r')\n",
    "ax.set_ylim((-10,400))\n",
    "\n",
    "ax = axs[1]\n",
    "var = 'mpers'\n",
    "# ax.set_yscale('log')\n",
    "ax.plot(data[var], '-o', label='smoothed')\n",
    "ax.hlines(y=max_vel, xmin=xmin, xmax=xmax, linestyle=':', color='r')\n",
    "ax.hlines(y=min_vel, xmin=xmin, xmax=xmax, linestyle=':', color='r')\n",
    "ax.set_ylim((-5,100))\n",
    "\n",
    "ax = axs[2]\n",
    "var = 'dt'\n",
    "ax.plot(data[var], '-o', label='smoothed')\n",
    "ax.hlines(y=max_dt, xmin=xmin, xmax=xmax, linestyle=':', color='r')\n",
    "\n",
    "ax = axs[3]\n",
    "var = 'lat'\n",
    "ax.plot(data[var], '-og',)\n",
    "\n",
    "ax = axs[4]\n",
    "var = 'lon'\n",
    "ax.plot(data[var], '-og',)"
   ]
  },
  {
   "cell_type": "code",
   "execution_count": null,
   "metadata": {},
   "outputs": [],
   "source": [
    "f,ax = plt.subplots(figsize=(10,10))\n",
    "ax.plot(bb_samp['lat'], bb_samp['lon'], '.k', alpha=0.05)\n",
    "ax.plot(_bb['lat'], _bb['lon'], '-o', alpha=0.5)\n",
    "ax.plot(_bbm['lat'], _bbm['lon'], '-o', alpha=0.5)\n",
    "ax.axis('tight')\n",
    "ax.axis('square')"
   ]
  },
  {
   "cell_type": "code",
   "execution_count": null,
   "metadata": {},
   "outputs": [],
   "source": [
    "start='2019-03-11-08'\n",
    "end='2019-03-11-20'\n",
    "_bb = bb.loc[start:end,:]\n",
    "_bbm = bbm.loc[start:end,:]\n",
    "_bbss = bbss.loc[start:end,:]"
   ]
  },
  {
   "cell_type": "code",
   "execution_count": null,
   "metadata": {},
   "outputs": [],
   "source": [
    "data = _bbss"
   ]
  },
  {
   "cell_type": "code",
   "execution_count": null,
   "metadata": {},
   "outputs": [],
   "source": [
    "def get_trip_starts_and_ends(data):\n",
    "    moving_ind = (data['moving'] > data['still'])\n",
    "    start_inds = np.where((moving_ind.astype(int).diff() == 1))[0]\n",
    "    end_inds = np.where((moving_ind.astype(int).diff() == -1))[0]\n",
    "    trip_start_times = [data.iloc[start_ind].name for start_ind in start_inds]\n",
    "    trip_end_times = [data.iloc[end_ind].name for end_ind in end_inds]\n",
    "    return trip_start_times, trip_end_times"
   ]
  },
  {
   "cell_type": "code",
   "execution_count": null,
   "metadata": {},
   "outputs": [],
   "source": [
    "trip_start_times, trip_end_times = get_trip_starts_and_ends(_bbss)"
   ]
  },
  {
   "cell_type": "code",
   "execution_count": null,
   "metadata": {},
   "outputs": [],
   "source": [
    "lines = []\n",
    "for start, end in zip(trip_start_times, trip_end_times):\n",
    "    trip = df.loc[start:end,:]\n",
    "    line = trip.loc[:,['lat', 'lon']].values\n",
    "    lines.append(line)"
   ]
  },
  {
   "cell_type": "code",
   "execution_count": null,
   "metadata": {},
   "outputs": [],
   "source": [
    "f,ax = plt.subplots(figsize=(12,12))\n",
    "# lc = LineCollection(lines, alpha=0.1)\n",
    "# ax.add_collection(lc)\n",
    "ax.plot(_bb['lat'], _bb['lon'])\n",
    "for line in lines:\n",
    "    ax.plot(line[:,0], line[:,1], '-or')\n",
    "ax.axis('tight')\n",
    "ax.axis('square')"
   ]
  },
  {
   "cell_type": "code",
   "execution_count": null,
   "metadata": {},
   "outputs": [],
   "source": [
    "trip_dist = _data['dpos'].sum()"
   ]
  },
  {
   "cell_type": "code",
   "execution_count": null,
   "metadata": {},
   "outputs": [],
   "source": [
    "trip_dist"
   ]
  },
  {
   "cell_type": "code",
   "execution_count": null,
   "metadata": {},
   "outputs": [],
   "source": [
    "start=18010\n",
    "end=18100\n",
    "_df = df.loc[start:end,:]\n",
    "\n",
    "buffer = 0.16\n",
    "\n",
    "xmin = _df['lon'].min() - buffer\n",
    "xmax = _df['lon'].max() + buffer\n",
    "ymin = _df['lat'].min() - buffer\n",
    "ymax = _df['lat'].max() + buffer\n",
    "\n",
    "\n",
    "f,ax = plt.subplots(figsize=(10,10))\n",
    "\n",
    "ax.plot(bb['lon'], bb['lat'], '.b', alpha=0.1)\n",
    "ax.plot(_df['lon'], _df['lat'], '-or', alpha=0.8)\n",
    "\n",
    "ax.axis('square')\n",
    "\n",
    "ax.plot(_df['dpos'])\n",
    "ax.set_xlim((xmin,xmax))\n",
    "ax.set_ylim((ymin,ymax))"
   ]
  },
  {
   "cell_type": "code",
   "execution_count": null,
   "metadata": {},
   "outputs": [],
   "source": []
  },
  {
   "cell_type": "code",
   "execution_count": null,
   "metadata": {},
   "outputs": [],
   "source": [
    "f,ax = plt.subplots(figsize=(12,6))\n",
    "# start=10720\n",
    "# end=10800\n",
    "start=18010\n",
    "end=18100\n",
    "_df = df.loc[start:end,:]\n",
    "ax.plot(_df['dpos'])\n"
   ]
  },
  {
   "cell_type": "code",
   "execution_count": null,
   "metadata": {},
   "outputs": [],
   "source": [
    "jump_ind = (lower_lim > df['dpos']) | (df['dpos']>upper_lim)\n",
    "df.loc[jump_ind,['lat','lon']] = np.nan\n",
    "\n"
   ]
  },
  {
   "cell_type": "code",
   "execution_count": null,
   "metadata": {},
   "outputs": [],
   "source": []
  },
  {
   "cell_type": "code",
   "execution_count": null,
   "metadata": {},
   "outputs": [],
   "source": [
    "df_gps['lat'] = df_gps['locations'].map(lambda x: x['latitudeE7'])\n",
    "df_gps['lon'] = df_gps['locations'].map(lambda x: x['longitudeE7'])\n",
    "df_gps['timestamp_ms'] = df_gps['locations'].map(lambda x: x['timestampMs'])\n",
    "\n",
    "# convert lat/lon to decimalized degrees and the timestamp to date-time\n",
    "df_gps['lat'] = df_gps['lat'] / 10.**7\n",
    "df_gps['lon'] = df_gps['lon'] / 10.**7\n",
    "df_gps['timestamp_ms'] = df_gps['timestamp_ms'].astype(float) / 1000"
   ]
  },
  {
   "cell_type": "code",
   "execution_count": null,
   "metadata": {},
   "outputs": [],
   "source": [
    "df_gps['datetime'] = df_gps['timestamp_ms'].map(lambda x: dt.fromtimestamp(x).strftime('%Y-%m-%d %H:%M:%S'))\n",
    "date_range = '{}-{}'.format(df_gps['datetime'].min()[:4], df_gps['datetime'].max()[:4])"
   ]
  },
  {
   "cell_type": "code",
   "execution_count": null,
   "metadata": {},
   "outputs": [],
   "source": [
    "df_gps.loc[1:,'dlat'] = df_gps['lat'].diff()\n",
    "df_gps.loc[1:,'dlon'] = df_gps['lon'].diff()\n",
    "df_gps['dpos'] = (df_gps['dlat']**2 + df_gps['dlon']**2) ** 0.5"
   ]
  },
  {
   "cell_type": "code",
   "execution_count": null,
   "metadata": {},
   "outputs": [],
   "source": [
    "df.loc[5,'locations']"
   ]
  },
  {
   "cell_type": "code",
   "execution_count": null,
   "metadata": {},
   "outputs": [],
   "source": [
    "len(joined_segs)"
   ]
  },
  {
   "cell_type": "code",
   "execution_count": null,
   "metadata": {},
   "outputs": [],
   "source": [
    "df.shape"
   ]
  },
  {
   "cell_type": "code",
   "execution_count": null,
   "metadata": {},
   "outputs": [],
   "source": [
    "lower_lim = 0.0001\n",
    "upper_lim = 0.007\n",
    "seg_join_dist_thresh = 0.005\n",
    "\n",
    "\n",
    "df = df_gps.copy()\n",
    "df = df[small_bay_ind]\n",
    "jump_ind = (lower_lim > df['dpos']) | (df['dpos']>upper_lim)\n",
    "df.loc[jump_ind,['lat','lon']] = np.nan\n",
    "\n",
    "df.loc[1:,'dlat'] = df['lat'].diff()\n",
    "df.loc[1:,'dlon'] = df['lon'].diff()\n",
    "df['dpos'] = (df['dlat']**2 + df['dlon']**2) ** 0.5\n",
    "jump_ind = (lower_lim > df['dpos']) | (df['dpos']>upper_lim)\n",
    "df.loc[jump_ind,['lat','lon']] = np.nan\n",
    "_data = df.tail(350000)\n",
    "# _data = df\n",
    "\n",
    "f, ax = plt.subplots(figsize=(8,8))\n",
    "segs = layer_to_line_segments(_data.loc[:,['lon','lat']].values.T)\n",
    "segs = [seg for seg in segs if seg.shape[0]>0]\n",
    "joined_segs = join_segs(segs, seg_join_dist_thresh=seg_join_dist_thresh)\n",
    "line_segments = LineCollection(joined_segs)\n",
    "ax.add_collection(line_segments)\n",
    "# ax.plot(_data['lon'],_data['lat'],'o',markersize=1,alpha=0.02)\n",
    "ax.axis('tight')\n",
    "ax.axis('equal')\n",
    "ax.axis('off');"
   ]
  },
  {
   "cell_type": "code",
   "execution_count": null,
   "metadata": {},
   "outputs": [],
   "source": [
    "savedir='/Users/naka/Pictures/axidraw/'\n",
    "f.savefig(savedir+'smallbay_lines2.svg',dpi=300)"
   ]
  },
  {
   "cell_type": "code",
   "execution_count": null,
   "metadata": {},
   "outputs": [],
   "source": []
  },
  {
   "cell_type": "code",
   "execution_count": null,
   "metadata": {},
   "outputs": [],
   "source": [
    "savedir='/Users/naka/Pictures/axidraw/'\n",
    "f.savefig(savedir+'closebay_lines_smol5.svg',dpi=300)"
   ]
  },
  {
   "cell_type": "code",
   "execution_count": null,
   "metadata": {},
   "outputs": [],
   "source": [
    "f, ax = plt.subplots(figsize=(11,8.5))\n",
    "data = _df.query('37.6 < lat < 37.9').query('-122.5 < lon < -122.23')\n",
    "# _data = data.sample(50000)\n",
    "# _data = data.head(100000)\n",
    "# ax.scatter(_data['lon'],_data['lat'],s=1,alpha=1)\n",
    "ax.plot(_data['lon'],_data['lat'],alpha=0.3)\n",
    "ax.axis('equal');\n",
    "ax.axis('off')"
   ]
  },
  {
   "cell_type": "code",
   "execution_count": null,
   "metadata": {},
   "outputs": [],
   "source": [
    "savedir='/Users/naka/Pictures/axidraw/'\n",
    "f.savefig(savedir+'closebay50k.svg',dpi=300)"
   ]
  },
  {
   "cell_type": "code",
   "execution_count": null,
   "metadata": {},
   "outputs": [],
   "source": [
    "f, ax = plt.subplots(figsize=(10,10))\n",
    "\n",
    "# data = df_gps.query('37.75 < lat < 37.9').query('-122.34 < lon < -122.2')\n",
    "data = df_gps[big_bay_ind]\n",
    "# _data = data.sample(100000)\n",
    "_data = data\n",
    "ax.scatter(_data['lon'],_data['lat'],s=1,alpha=0.1)\n",
    "ax.axis('equal');\n",
    "# ax.axis('off')"
   ]
  },
  {
   "cell_type": "code",
   "execution_count": null,
   "metadata": {},
   "outputs": [],
   "source": [
    "sns.set_style('dark')"
   ]
  },
  {
   "cell_type": "code",
   "execution_count": null,
   "metadata": {},
   "outputs": [],
   "source": [
    "f, ax = plt.subplots(figsize=(10,10))\n",
    "# data = df_gps.query('37.75 < lat < 37.9').query('-122.34 < lon < -122.2')\n",
    "data = df_gps[big_bay_ind]\n",
    "_data = data\n",
    "ax.hexbin(_data['lon'],_data['lat'], gridsize=3000, bins='log', mincnt=1)\n",
    "ax.axis('tight')\n",
    "ax.axis('equal')\n",
    "ax.axis('off')"
   ]
  },
  {
   "cell_type": "code",
   "execution_count": null,
   "metadata": {},
   "outputs": [],
   "source": [
    "f.savefig('bigbay2.png',dpi=300)"
   ]
  },
  {
   "cell_type": "code",
   "execution_count": null,
   "metadata": {},
   "outputs": [],
   "source": [
    "\n",
    "sns.distplot(data['lon'], bins=50, kde=False)"
   ]
  },
  {
   "cell_type": "code",
   "execution_count": null,
   "metadata": {},
   "outputs": [],
   "source": [
    "sns.distplot(df_gps.query('37.5 < lat < 38.2')['lat'], bins=50, kde=False)"
   ]
  }
 ],
 "metadata": {
  "kernelspec": {
   "display_name": "Python [conda env:good_robot]",
   "language": "python",
   "name": "conda-env-good_robot-py"
  }
 },
 "nbformat": 4,
 "nbformat_minor": 4
}
