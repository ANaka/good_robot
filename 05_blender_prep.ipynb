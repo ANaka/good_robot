{
 "cells": [
  {
   "cell_type": "code",
   "execution_count": null,
   "metadata": {},
   "outputs": [],
   "source": [
    "import numpy as np\n",
    "\n",
    "x_max = 10\n",
    "y_max = 20\n",
    "xs, ys = np.meshgrid(np.arange(x_max), np.arange(y_max))\n",
    "total_n = x_max * y_max\n",
    "\n",
    "for i in range(0, y_max, 2):\n",
    "    xs[i,:] = np.flipud(xs[i,:])\n",
    "\n",
    "xs = xs.flatten()\n",
    "ys = ys.flatten()\n",
    "\n",
    "trans_noise_stds = np.linspace(0, 1, total_n)\n",
    "rot_noise_stds = np.linspace(0, 1, total_n)\n",
    "\n",
    "trans_noises = [np.random.randn() * tns for tns in trans_noise_stds]\n",
    "rot_noises = [np.random.randn() * rns for rns in rot_noise_stds]"
   ]
  }
 ],
 "metadata": {
  "kernelspec": {
   "display_name": "Python [conda env:good_robot]",
   "language": "python",
   "name": "conda-env-good_robot-py"
  }
 },
 "nbformat": 4,
 "nbformat_minor": 4
}
