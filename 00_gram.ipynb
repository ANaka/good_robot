{
 "cells": [
  {
   "cell_type": "code",
   "execution_count": null,
   "metadata": {},
   "outputs": [],
   "source": [
    "# default_exp gram"
   ]
  },
  {
   "cell_type": "markdown",
   "metadata": {},
   "source": [
    "# gram\n",
    "\n",
    "> API details."
   ]
  },
  {
   "cell_type": "code",
   "execution_count": null,
   "metadata": {},
   "outputs": [],
   "source": [
    "#hide\n",
    "from nbdev.showdoc import *"
   ]
  },
  {
   "cell_type": "code",
   "execution_count": null,
   "metadata": {},
   "outputs": [],
   "source": [
    "#export\n",
    "import bezier\n",
    "from matplotlib.collections import LineCollection\n",
    "from matplotlib import pyplot as plt\n",
    "import numpy as np\n",
    "from penkit import write, preview\n",
    "from pathlib import Path\n",
    "import seaborn as sns\n",
    "from tqdm import tqdm"
   ]
  },
  {
   "cell_type": "code",
   "execution_count": null,
   "metadata": {},
   "outputs": [],
   "source": [
    "%matplotlib inline"
   ]
  },
  {
   "cell_type": "code",
   "execution_count": null,
   "metadata": {},
   "outputs": [],
   "source": [
    "#export\n",
    "def dist_from_point(line, point):\n",
    "    '''calculate euclidean distance of a set of points from a reference point'''\n",
    "    return ((line - point) ** 2).sum(axis=1) ** 0.5"
   ]
  },
  {
   "cell_type": "code",
   "execution_count": null,
   "metadata": {},
   "outputs": [],
   "source": [
    "#export\n",
    "def lines_to_layer(lines):\n",
    "    nanlines = []\n",
    "    for line in lines:\n",
    "        _line = np.concatenate([line,np.array([[np.nan, np.nan]])])\n",
    "        nanlines.append(_line)\n",
    "    nanlines = np.concatenate(nanlines)\n",
    "    x = nanlines[:,0]\n",
    "    y = nanlines[:,1]\n",
    "    return (x,y)"
   ]
  },
  {
   "cell_type": "code",
   "execution_count": null,
   "metadata": {},
   "outputs": [],
   "source": [
    "#export\n",
    "def layer_to_lines(layer):\n",
    "    _layer = layer[1:,:]  # drop first row containing placeholder nan\n",
    "    isnan = np.isnan(_layer[:,0]).nonzero()[0]\n",
    "    lines = []\n",
    "    start_ind = 0\n",
    "    for nan_ind in isnan:\n",
    "        line = _layer[start_ind:nan_ind,:]\n",
    "        lines.append(line)\n",
    "        start_ind = nan_ind + 1\n",
    "    return lines"
   ]
  },
  {
   "cell_type": "code",
   "execution_count": null,
   "metadata": {},
   "outputs": [],
   "source": [
    "#export\n",
    "class ChordArray(object):\n",
    "    def __init__(self,\n",
    "                 center=np.array([0.,0.]),\n",
    "                 radius=1,\n",
    "                ):\n",
    "        self.center = center\n",
    "        self.radius = radius\n",
    "        self.chords = np.array([[np.nan, np.nan]])\n",
    "        \n",
    "    @property\n",
    "    def center_x(self):\n",
    "        return self.center[0]\n",
    "    \n",
    "    @property\n",
    "    def center_y(self):\n",
    "        return self.center[1]\n",
    "    \n",
    "    def radial_to_xy(self, r, theta):\n",
    "        x = np.cos(theta) * r\n",
    "        y = np.sin(theta) * r\n",
    "        return (x, y)\n",
    "    \n",
    "    def gen_chord(self, theta0, theta1, radius0=None, radius1=None):\n",
    "        if not radius0:\n",
    "            radius0 = self.radius\n",
    "        if not radius1:\n",
    "            radius1 = self.radius\n",
    "        x0, y0 = self.radial_to_xy(radius0, theta0)\n",
    "        x1, y1 = self.radial_to_xy(radius1, theta1)\n",
    "        chord = np.array([[x0, y0],\n",
    "                             [x1, y1],\n",
    "                             [np.nan, np.nan],\n",
    "                            ])\n",
    "        chord += self.center\n",
    "        return chord\n",
    "    \n",
    "    def add_chord(self, theta0, theta1, radius0=None, radius1=None):\n",
    "        chord = self.gen_chord(theta0, theta1, radius0, radius1)\n",
    "        self.chords = np.append(self.chords, chord, axis=0)\n",
    "    \n",
    "    def gen_diameter(self, theta0, radius=None):\n",
    "        if not radius:\n",
    "            radius = self.radius\n",
    "        theta1 = theta0 + np.pi\n",
    "        return self.gen_chord(theta0=theta0,\n",
    "                              theta1=theta1,\n",
    "                              radius0=radius,\n",
    "                              radius1=radius\n",
    "                             )\n",
    "        \n",
    "    def add_diameter(self, theta0, radius=None):\n",
    "        diameter = self.gen_diameter(theta0, radius)\n",
    "        self.chords = np.append(self.chords, diameter, axis=0)\n",
    "        \n",
    "    def add_random_diameters(self, n_diameters=10):\n",
    "        for theta in np.random.rand(n_diameters) * np.pi * 2:\n",
    "            self.add_diameter(theta)\n",
    "            \n",
    "    def add_random_chords_at_set_theta_diff(self, n_chords, theta_diff):\n",
    "        for theta0 in np.random.rand(n_chords) * np.pi * 2:\n",
    "            theta1 = theta0 + theta_diff\n",
    "            self.add_chord(theta0=theta0, theta1=theta1)\n",
    "            "
   ]
  },
  {
   "cell_type": "code",
   "execution_count": null,
   "metadata": {},
   "outputs": [
    {
     "data": {
      "text/plain": [
       "<matplotlib.collections.LineCollection at 0x7f6691ede0d0>"
      ]
     },
     "execution_count": null,
     "metadata": {},
     "output_type": "execute_result"
    },
    {
     "data": {
      "image/png": "[encoded data removed]",
      "text/plain": [
       "<Figure size 792x612 with 1 Axes>"
      ]
     },
     "metadata": {
      "needs_background": "light"
     },
     "output_type": "display_data"
    }
   ],
   "source": [
    "lines = []\n",
    "\n",
    "node_sets = []\n",
    "n_lines = 1200\n",
    "n_nodes_per_line = 20\n",
    "y_start = 0.5\n",
    "y_end = 5\n",
    "x_start = 1\n",
    "x_end = 10\n",
    "node_x_centers = np.linspace(x_start, x_end, n_lines)\n",
    "std_scale = 0.02\n",
    "n_eval_points = 2000\n",
    "\n",
    "### initialize vals\n",
    "node_ys = np.linspace(y_start, y_end, n_nodes_per_line)\n",
    "centered_node_xs = np.zeros(node_ys.shape)\n",
    "bez_eval_end_center = 0.7\n",
    "bez_eval_end_noise = 0\n",
    "bez_eval_end_limit = 1.02\n",
    "bez_eval_end_std_scale = 0.02\n",
    "\n",
    "for i, node_x_center in enumerate(node_x_centers):\n",
    "#     node_ys = np.flipud(node_ys)\n",
    "#     centered_node_xs = np.flipud(centered_node_xs)\n",
    "    new_x_noise = np.random.randn(n_nodes_per_line) * std_scale\n",
    "    bez_eval_end_noise = bez_eval_end_noise + np.random.randn() * bez_eval_end_std_scale\n",
    "    centered_node_xs = centered_node_xs + new_x_noise\n",
    "    node_xs = node_x_center + centered_node_xs\n",
    "    node_xs[0:3] = node_x_center\n",
    "#     node_xs[-1] = node_x_center\n",
    "    nodes = np.asfortranarray([\n",
    "        node_xs,\n",
    "        node_ys,\n",
    "        ])\n",
    "    curve = bezier.Curve(nodes, degree=(nodes.shape[1]-1))\n",
    "    bez_eval_end = bez_eval_end_center + bez_eval_end_noise\n",
    "    if bez_eval_end > bez_eval_end_limit:\n",
    "        bez_eval_end = 1 + np.random.randn()*0.02\n",
    "    eval_points = np.linspace(0, bez_eval_end, n_eval_points)\n",
    "    x, y = curve.evaluate_multi(eval_points)\n",
    "    if i % 2:\n",
    "        x = np.flipud(x)\n",
    "        y = np.flipud(y)\n",
    "    lines.append(np.stack([x, y]).T)\n",
    "    node_sets.append(np.stack([node_xs, node_ys]).T)\n",
    "\n",
    "in_circle_lines = []\n",
    "center_loc = np.array([5.,4])\n",
    "circle_rad = 3\n",
    "for line in lines:\n",
    "    in_circle = dist_from_point(line, center_loc) < circle_rad\n",
    "    in_circle_lines.append(line[in_circle,:])\n",
    "\n",
    "\n",
    "\n",
    "    \n",
    "    \n",
    "lc = LineCollection(lines)\n",
    "iclc = LineCollection(in_circle_lines)\n",
    "ns = np.concatenate(node_sets)\n",
    "plt.close('all')\n",
    "f,ax = plt.subplots(figsize=(11, 8.5))\n",
    "ax.set_xlim((0, 11))\n",
    "ax.set_ylim((0, 8.5))\n",
    "\n",
    "# ax.add_collection(lc)\n",
    "ax.add_collection(iclc)"
   ]
  },
  {
   "cell_type": "code",
   "execution_count": null,
   "metadata": {},
   "outputs": [
    {
     "name": "stdout",
     "output_type": "stream",
     "text": [
      "Converted 00_wigglesphere.ipynb.\n",
      "Converted 01_wigglesphere_scratch.ipynb.\n",
      "Converted index.ipynb.\n"
     ]
    }
   ],
   "source": [
    "from nbdev.export import notebook2script\n",
    "notebook2script()"
   ]
  }
 ],
 "metadata": {
  "kernelspec": {
   "display_name": "Python [conda env:good_robot]",
   "language": "python",
   "name": "conda-env-good_robot-py"
  }
 },
 "nbformat": 4,
 "nbformat_minor": 4
}
